{
  "nbformat": 4,
  "nbformat_minor": 0,
  "metadata": {
    "colab": {
      "provenance": []
    },
    "kernelspec": {
      "name": "python3",
      "display_name": "Python 3"
    },
    "language_info": {
      "name": "python"
    }
  },
  "cells": [
    {
      "cell_type": "code",
      "source": [],
      "metadata": {
        "id": "A5w1eR6RuKNz"
      },
      "execution_count": null,
      "outputs": []
    },
    {
      "cell_type": "markdown",
      "source": [
        "1. what is python and why is it popular?\n",
        "ans-> python is a high-level language known for its readability and versatility.\n",
        "It is widely used in web developement, data analysis , artifical intelligence and more.\n",
        "pytho is easy to understand and writr.\n",
        "python is open-source and has a large community that contributes to its extensive libaries and strong community support.\n",
        "it is popular because of following points:\n",
        "*easy of learning\n",
        "*versatility\n",
        "*a lot of libraries and huge active community\n",
        "\n",
        "2. what is interperter in python?\n",
        "ans-> An interpreter in python is a program that directly execute python code without requiring it to be compiled into machine language beforehand.\n",
        "\n",
        "3. what are pre-defined keywords in python?\n",
        "ans-> pre-defined keyword in python are reserved words that hold secial meaning and functionality within the language. we cannot use pre-defined keywords as variable name.\n",
        "\n",
        "4. Can keywords be used as variable names?\n",
        "ans->No,we cannot use keywords as variable name.\n",
        "keywords have pre-defined meaning and if we can keywords as variable it give error.\n",
        "\n",
        "5. what is mutability inpython?\n",
        "ans-> the meaning of mutability in python is that we can change the value after we have created it.\n",
        "\n",
        "6. why are list mutable, but tuple are immutable?\n",
        "ans-> A list is designed to be a flexible ,dynamic data structure.\n",
        "You can add,remove,or change element.\n",
        "its built to allow modification after creation.\n",
        "\n",
        "A tuple is meant to be fixed, unchangeable collection of value.\n",
        "you cannot cahange the cotents once its created.\n",
        "This make tuples hashable, so they can be used as dictionary keys or in sets.\n",
        "They also offer performance advantages (faster, use less memory).\n",
        "\n",
        "7. what is the difference between \"==\" and \"is\" operators python?\n",
        "ans-> \"==\" operator is use to compare the value of an object. it compares whether values are same or not. \"is\" operator is used the identity of the two objects.\n",
        "\n",
        "8. what are logical operator in python?\n",
        "ans->logical operators in python are used to combine conditional statement and evaluate expression based on their truth value (true or false). there are three types of logical operator-\n",
        "                 *and- true if both are true\n",
        "                 *or-true if one is true\n",
        "                 *not-reverse condition\n",
        "\n",
        "9. what is type casting in python?\n",
        "ans->type casting is also knpown as type conversion.It is the process of converting value from one data type to another data type.\n",
        "       *int()-convert value to integer\n",
        "       *float()-convert value to floating point number\n",
        "       *str()-convert value to string\n",
        "       *bool()-convert value to boolean\n",
        "\n",
        "10. what is the difference between implicit and explicit type casting?\n",
        "ans->Implicit is a type of conversion that is performed automatically by the compiler or interpreter without using explicit instructionfreom the programmer.\n",
        "\n",
        "  -> Explicit is a type of conversion that is not performed automatically. It is done by using casting operator or function provided by the language.\n",
        "\n",
        "11. what is the purpose of conditional statement in python?\n",
        "ans->The main purpose of conditional statement in python is to execute certain blocks of code based on whether a condition is true or false. It is of three types-\n",
        " *if-statement\n",
        " *if-else statement\n",
        " *if-elif statement\n",
        "\n",
        "12. how does the elif statemenr work?\n",
        "ans->the elif statement work on multiple condition.The working elif can be understand in the following ways-\n",
        "       *at first the \"if\" statement is checked . If the 'if' statement is true the code within the 'if' statement is executed and if it is false then it checks the elif statemented.\n",
        "\n",
        "       *Now the 'elif' statement is checked based on the condition of program .If the condition in the 'elif' statement is executed.\n",
        "       \n",
        "       *Now at last the 'else' condition is checked in the program. when all the 'if' and 'elif'condition are false the 'else' statement is executed.\n",
        "\n",
        "13. what is the difference between for and while loops?\n",
        "ans->'For' loop is basically is known that is we exactly known how many time to run the loop.\n",
        "   'while' loop work on the basis of condition given to it .The 'while' loop is repeated until the condition becomes false.\n",
        "\n",
        "14. Describe a scenario where a while loop is more suitable than a for loop?\n",
        "ans->A while loop is more suitable than for loop in a condition where we dont know the number of iteration in advance that is if we want to go through with Aa string and we dont know the ending iteration because the string is based on the user input so it may very according to user input.\n",
        "        so in this case we prefer while loop over the for loop for better and smooth executionof the program.  \n",
        "\n"
      ],
      "metadata": {
        "id": "1rfdkiRQuLlQ"
      }
    },
    {
      "cell_type": "code",
      "source": [
        "#1. Write a Python program to print \"Hello, World!\n",
        "print(\"hello world\")"
      ],
      "metadata": {
        "colab": {
          "base_uri": "https://localhost:8080/"
        },
        "id": "MoaNVKj2cenP",
        "outputId": "b04129db-2afa-4009-b459-d7a51e324c9f"
      },
      "execution_count": null,
      "outputs": [
        {
          "output_type": "stream",
          "name": "stdout",
          "text": [
            "hello world\n"
          ]
        }
      ]
    },
    {
      "cell_type": "code",
      "source": [
        "#2. Write a Python program that displays your name and age8\n",
        "name = \"vicky kumar yadav\"\n",
        "age = 23\n",
        "print(name)\n",
        "print(age)"
      ],
      "metadata": {
        "colab": {
          "base_uri": "https://localhost:8080/"
        },
        "id": "kbnub2-zdUez",
        "outputId": "3491f8d9-e0b0-490e-daee-25deb562bcdb"
      },
      "execution_count": null,
      "outputs": [
        {
          "output_type": "stream",
          "name": "stdout",
          "text": [
            "vicky kumar yadav\n",
            "23\n"
          ]
        }
      ]
    },
    {
      "cell_type": "code",
      "source": [
        "#3.Write code to print all the pre-defined keywords in Python using the keyword library8\n",
        "import keyword\n",
        "print(keyword.kwlist)"
      ],
      "metadata": {
        "colab": {
          "base_uri": "https://localhost:8080/"
        },
        "id": "RF4GgU78g9uU",
        "outputId": "00a6aa9c-0730-4984-9543-a74a473cb7b1"
      },
      "execution_count": null,
      "outputs": [
        {
          "output_type": "stream",
          "name": "stdout",
          "text": [
            "['False', 'None', 'True', 'and', 'as', 'assert', 'async', 'await', 'break', 'class', 'continue', 'def', 'del', 'elif', 'else', 'except', 'finally', 'for', 'from', 'global', 'if', 'import', 'in', 'is', 'lambda', 'nonlocal', 'not', 'or', 'pass', 'raise', 'return', 'try', 'while', 'with', 'yield']\n"
          ]
        }
      ]
    },
    {
      "cell_type": "code",
      "source": [
        "#4.Write a program that checks if a given word is a Python keyword.\n",
        "import keyword\n",
        "word = input(\"enter the word:\")\n",
        "if word in keyword.kwlist:\n",
        "  print(word,\" is a python keyword\")\n",
        "else:\n",
        "  print(word,\" is not python keyword\")\n"
      ],
      "metadata": {
        "id": "XUJ6dfOLszdV",
        "colab": {
          "base_uri": "https://localhost:8080/"
        },
        "outputId": "84373a78-5337-4739-8f04-c16cc885c02a"
      },
      "execution_count": null,
      "outputs": [
        {
          "output_type": "stream",
          "name": "stdout",
          "text": [
            "enter the word:for\n",
            "for  is a python keyword\n"
          ]
        }
      ]
    },
    {
      "cell_type": "code",
      "source": [
        "#5.Create a list and tuple in Python, and demonstrate how attempting to change an element works differently for each.\n",
        "list = [10,20,30,40,50]\n",
        "tuple = [10,20,30,40,50]\n",
        "list[1]=40\n",
        "print(list)\n",
        "tuple[1]=50\n",
        "print(tuple)\n"
      ],
      "metadata": {
        "colab": {
          "base_uri": "https://localhost:8080/"
        },
        "id": "rONggcTJu7CP",
        "outputId": "02baf393-adc4-4252-b704-94a1df94d232"
      },
      "execution_count": null,
      "outputs": [
        {
          "output_type": "stream",
          "name": "stdout",
          "text": [
            "[10, 40, 30, 40, 50]\n",
            "[10, 50, 3040, 50]\n"
          ]
        }
      ]
    },
    {
      "cell_type": "code",
      "source": [
        "#6.Write a function to demonstrate the behavior of mutable and immutable arguments.\n",
        "l = [10,20,\"vicky\",30]\n",
        "print(l)\n",
        "l[1]=40\n",
        "print(l)\n",
        "\n",
        "t = (10,20,\"yadav\",50)\n",
        "print(t)\n",
        "t[1]=\"vicky\"\n",
        "print(t)"
      ],
      "metadata": {
        "id": "IRnzqk8iszZz",
        "colab": {
          "base_uri": "https://localhost:8080/",
          "height": 245
        },
        "outputId": "94021605-7fca-48e8-a904-48f67ca2d3dd"
      },
      "execution_count": null,
      "outputs": [
        {
          "output_type": "stream",
          "name": "stdout",
          "text": [
            "[10, 20, 'vicky', 30]\n",
            "[10, 40, 'vicky', 30]\n",
            "(10, 20, 'yadav', 50)\n"
          ]
        },
        {
          "output_type": "error",
          "ename": "TypeError",
          "evalue": "'tuple' object does not support item assignment",
          "traceback": [
            "\u001b[0;31m---------------------------------------------------------------------------\u001b[0m",
            "\u001b[0;31mTypeError\u001b[0m                                 Traceback (most recent call last)",
            "\u001b[0;32m/tmp/ipython-input-3933683429.py\u001b[0m in \u001b[0;36m<cell line: 0>\u001b[0;34m()\u001b[0m\n\u001b[1;32m      7\u001b[0m \u001b[0mt\u001b[0m \u001b[0;34m=\u001b[0m \u001b[0;34m(\u001b[0m\u001b[0;36m10\u001b[0m\u001b[0;34m,\u001b[0m\u001b[0;36m20\u001b[0m\u001b[0;34m,\u001b[0m\u001b[0;34m\"yadav\"\u001b[0m\u001b[0;34m,\u001b[0m\u001b[0;36m50\u001b[0m\u001b[0;34m)\u001b[0m\u001b[0;34m\u001b[0m\u001b[0;34m\u001b[0m\u001b[0m\n\u001b[1;32m      8\u001b[0m \u001b[0mprint\u001b[0m\u001b[0;34m(\u001b[0m\u001b[0mt\u001b[0m\u001b[0;34m)\u001b[0m\u001b[0;34m\u001b[0m\u001b[0;34m\u001b[0m\u001b[0m\n\u001b[0;32m----> 9\u001b[0;31m \u001b[0mt\u001b[0m\u001b[0;34m[\u001b[0m\u001b[0;36m1\u001b[0m\u001b[0;34m]\u001b[0m\u001b[0;34m=\u001b[0m\u001b[0;34m\"vicky\"\u001b[0m\u001b[0;34m\u001b[0m\u001b[0;34m\u001b[0m\u001b[0m\n\u001b[0m\u001b[1;32m     10\u001b[0m \u001b[0mprint\u001b[0m\u001b[0;34m(\u001b[0m\u001b[0mt\u001b[0m\u001b[0;34m)\u001b[0m\u001b[0;34m\u001b[0m\u001b[0;34m\u001b[0m\u001b[0m\n",
            "\u001b[0;31mTypeError\u001b[0m: 'tuple' object does not support item assignment"
          ]
        }
      ]
    },
    {
      "cell_type": "markdown",
      "source": [],
      "metadata": {
        "id": "th2m3BWAuFTP"
      }
    },
    {
      "cell_type": "code",
      "source": [
        "#7.Write a program that performs basic arithmetic operations on two user-input numbers.\n",
        "number1 =int( input(\"enter the number1\"))\n",
        "number2 =int (input(\"enter the number2\"))\n",
        "print(number1+number2)\n",
        "print(number1*number2)\n",
        "print(number1-number2)\n",
        "print(number1/number2)"
      ],
      "metadata": {
        "colab": {
          "base_uri": "https://localhost:8080/"
        },
        "id": "YT_khcvZ8m2g",
        "outputId": "ce17cccf-b319-4c32-cc2f-1e89ac1724bc"
      },
      "execution_count": null,
      "outputs": [
        {
          "output_type": "stream",
          "name": "stdout",
          "text": [
            "enter the number14\n",
            "enter the number24\n",
            "8\n",
            "16\n",
            "0\n",
            "1.0\n"
          ]
        }
      ]
    },
    {
      "cell_type": "code",
      "source": [
        "#8.Write a program to demonstrate the use of logical operators.\n",
        "x = 4\n",
        "print(x>2 and x<5)\n",
        "x = 10\n",
        "print(x>11 or x<1)\n",
        "x = 12\n",
        "print (not(x>13))"
      ],
      "metadata": {
        "colab": {
          "base_uri": "https://localhost:8080/"
        },
        "id": "el2B8zD4BL_s",
        "outputId": "ed3e74cb-e34d-4185-9230-c398c9f6b5d8"
      },
      "execution_count": null,
      "outputs": [
        {
          "output_type": "stream",
          "name": "stdout",
          "text": [
            "True\n",
            "False\n",
            "True\n"
          ]
        }
      ]
    },
    {
      "cell_type": "code",
      "source": [
        "#9.Write a Python program to convert user input from string to integer, float, and boolean types.\n",
        "value = input (\"Enter the value:\")\n",
        "\n",
        "print (\"In integer \",(int (value)))\n",
        "\n",
        "print (\"In float\",(float(value)))\n",
        "\n",
        "print (\"In Boolean\",(bool(value)))"
      ],
      "metadata": {
        "id": "jmWfalqzEitJ",
        "colab": {
          "base_uri": "https://localhost:8080/"
        },
        "outputId": "6254d7ec-a920-4745-8139-bf2485eff0dc"
      },
      "execution_count": null,
      "outputs": [
        {
          "output_type": "stream",
          "name": "stdout",
          "text": [
            "Enter the value:24\n",
            "In integer  24\n",
            "In float 24.0\n",
            "In Boolean True\n"
          ]
        }
      ]
    },
    {
      "cell_type": "code",
      "source": [
        "#10."
      ],
      "metadata": {
        "id": "VbtSRQpgo96h"
      },
      "execution_count": null,
      "outputs": []
    },
    {
      "cell_type": "code",
      "source": [
        "#11. Write a program that checks if a number is positive, negative, or zero.\n",
        "num = int(input(\"enter the number\"))\n",
        "if num>0:\n",
        "  print(\"the number is positive\",(num))\n",
        "elif num<0:\n",
        "  print(\"the number is negative\",(num))\n",
        "else:\n",
        "  print(\"the number is zero\",(num))\n",
        "\n",
        "\n"
      ],
      "metadata": {
        "colab": {
          "base_uri": "https://localhost:8080/"
        },
        "id": "TE4iSuUqpvE8",
        "outputId": "6c822e08-1cf9-4864-9f9d-1e4a53f18ce0"
      },
      "execution_count": null,
      "outputs": [
        {
          "output_type": "stream",
          "name": "stdout",
          "text": [
            "enter the number-22\n",
            "the number is negative -22\n"
          ]
        }
      ]
    },
    {
      "cell_type": "code",
      "source": [
        "#12.Write a for loop to print numbers from 1 to 10.\n",
        "i = 0\n",
        "for i in range(1,11):\n",
        " print(i)"
      ],
      "metadata": {
        "colab": {
          "base_uri": "https://localhost:8080/"
        },
        "id": "JoG3aHUgq4NS",
        "outputId": "8e23652d-bf97-4835-e6a4-d7ffe7addf8f"
      },
      "execution_count": null,
      "outputs": [
        {
          "output_type": "stream",
          "name": "stdout",
          "text": [
            "1\n",
            "2\n",
            "3\n",
            "4\n",
            "5\n",
            "6\n",
            "7\n",
            "8\n",
            "9\n",
            "10\n"
          ]
        }
      ]
    },
    {
      "cell_type": "code",
      "source": [
        "#13. Write a Python program to find the sum of all even numbers between 1 and 50.\n",
        "\n",
        "sum = 0\n",
        "for sum in range (1,51):\n",
        " sum+=0\n",
        " print(\"all even numbers\",(sum))\n",
        "\n"
      ],
      "metadata": {
        "colab": {
          "base_uri": "https://localhost:8080/"
        },
        "id": "UCDhex29rbYr",
        "outputId": "486fc1a9-3908-4755-e6dc-0374f1be5654"
      },
      "execution_count": null,
      "outputs": [
        {
          "output_type": "stream",
          "name": "stdout",
          "text": [
            "all even numbers 1\n",
            "all even numbers 2\n",
            "all even numbers 3\n",
            "all even numbers 4\n",
            "all even numbers 5\n",
            "all even numbers 6\n",
            "all even numbers 7\n",
            "all even numbers 8\n",
            "all even numbers 9\n",
            "all even numbers 10\n",
            "all even numbers 11\n",
            "all even numbers 12\n",
            "all even numbers 13\n",
            "all even numbers 14\n",
            "all even numbers 15\n",
            "all even numbers 16\n",
            "all even numbers 17\n",
            "all even numbers 18\n",
            "all even numbers 19\n",
            "all even numbers 20\n",
            "all even numbers 21\n",
            "all even numbers 22\n",
            "all even numbers 23\n",
            "all even numbers 24\n",
            "all even numbers 25\n",
            "all even numbers 26\n",
            "all even numbers 27\n",
            "all even numbers 28\n",
            "all even numbers 29\n",
            "all even numbers 30\n",
            "all even numbers 31\n",
            "all even numbers 32\n",
            "all even numbers 33\n",
            "all even numbers 34\n",
            "all even numbers 35\n",
            "all even numbers 36\n",
            "all even numbers 37\n",
            "all even numbers 38\n",
            "all even numbers 39\n",
            "all even numbers 40\n",
            "all even numbers 41\n",
            "all even numbers 42\n",
            "all even numbers 43\n",
            "all even numbers 44\n",
            "all even numbers 45\n",
            "all even numbers 46\n",
            "all even numbers 47\n",
            "all even numbers 48\n",
            "all even numbers 49\n",
            "all even numbers 50\n"
          ]
        }
      ]
    },
    {
      "cell_type": "code",
      "source": [
        "#14.Write a program to reverse a string using a while loop.\n",
        "text = input(\"enter the string\")\n",
        "reversed_text=\"\"\n",
        "index = len(text)-1\n",
        "while index>=0:\n",
        "  reversed_text+=text[index]\n",
        "  index-=1\n",
        "  print(\"reversed string:\",(reversed_text))\n"
      ],
      "metadata": {
        "colab": {
          "base_uri": "https://localhost:8080/"
        },
        "id": "fhEn2j-yuyy8",
        "outputId": "123e74fe-af42-4a57-bfd7-45c57920b4c3"
      },
      "execution_count": null,
      "outputs": [
        {
          "output_type": "stream",
          "name": "stdout",
          "text": [
            "enter the stringvicky\n",
            "reversed string: y\n",
            "reversed string: yk\n",
            "reversed string: ykc\n",
            "reversed string: ykci\n",
            "reversed string: ykciv\n"
          ]
        }
      ]
    },
    {
      "cell_type": "code",
      "source": [
        "#15.. Write a Python program to calculate the factorial of a number provided by the user using a while loop\n",
        "num = int(input(\"Enter a number: \"))\n",
        "factorial = 1\n",
        "i = 1\n",
        "while i <= num:\n",
        "    factorial *= i\n",
        "    i += 1\n",
        "print(f\"Factorial of {num} is: {factorial}\")\n"
      ],
      "metadata": {
        "colab": {
          "base_uri": "https://localhost:8080/"
        },
        "id": "4y9fz6L7xvrU",
        "outputId": "9903ca08-564d-40ad-9500-303e1684884f"
      },
      "execution_count": null,
      "outputs": [
        {
          "output_type": "stream",
          "name": "stdout",
          "text": [
            "Enter a number: 4\n",
            "Factorial of 4 is: 24\n"
          ]
        }
      ]
    }
  ]
}